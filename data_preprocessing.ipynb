{
  "nbformat": 4,
  "nbformat_minor": 0,
  "metadata": {
    "colab": {
      "name": "data-preprocessing.ipynb",
      "provenance": [],
      "authorship_tag": "ABX9TyOQAfrsuWyXEK4qV53hZX+s",
      "include_colab_link": true
    },
    "kernelspec": {
      "name": "python3",
      "display_name": "Python 3"
    },
    "language_info": {
      "name": "python"
    }
  },
  "cells": [
    {
      "cell_type": "markdown",
      "metadata": {
        "id": "view-in-github",
        "colab_type": "text"
      },
      "source": [
        "<a href=\"https://colab.research.google.com/github/bonnieliu2002/BreakThroughTechAI/blob/main/data_preprocessing.ipynb\" target=\"_parent\"><img src=\"https://colab.research.google.com/assets/colab-badge.svg\" alt=\"Open In Colab\"/></a>"
      ]
    },
    {
      "cell_type": "code",
      "execution_count": null,
      "metadata": {
        "id": "FD5oE0W2Lkah"
      },
      "outputs": [],
      "source": [
        "# Hi! This is not auto-synced with GitHub. Everytime we want to push changes we'll have to click File -> Save a copy in GitHub."
      ]
    },
    {
      "cell_type": "code",
      "source": [],
      "metadata": {
        "id": "0SE3YXUiLniI"
      },
      "execution_count": null,
      "outputs": []
    }
  ]
}